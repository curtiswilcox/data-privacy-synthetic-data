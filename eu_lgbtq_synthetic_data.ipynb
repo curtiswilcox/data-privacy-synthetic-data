{
 "cells": [
  {
   "cell_type": "code",
   "execution_count": 1,
   "metadata": {},
   "outputs": [
    {
     "data": {
      "text/html": [
       "<div>\n",
       "<style scoped>\n",
       "    .dataframe tbody tr th:only-of-type {\n",
       "        vertical-align: middle;\n",
       "    }\n",
       "\n",
       "    .dataframe tbody tr th {\n",
       "        vertical-align: top;\n",
       "    }\n",
       "\n",
       "    .dataframe thead th {\n",
       "        text-align: right;\n",
       "    }\n",
       "</style>\n",
       "<table border=\"1\" class=\"dataframe\">\n",
       "  <thead>\n",
       "    <tr style=\"text-align: right;\">\n",
       "      <th></th>\n",
       "      <th>CountryCode</th>\n",
       "      <th>subset</th>\n",
       "      <th>question_code</th>\n",
       "      <th>question_label</th>\n",
       "      <th>answer</th>\n",
       "      <th>percentage</th>\n",
       "    </tr>\n",
       "  </thead>\n",
       "  <tbody>\n",
       "    <tr>\n",
       "      <td>0</td>\n",
       "      <td>Austria</td>\n",
       "      <td>Lesbian</td>\n",
       "      <td>e1</td>\n",
       "      <td>Do you avoid holding hands in public with a sa...</td>\n",
       "      <td>Yes</td>\n",
       "      <td>33</td>\n",
       "    </tr>\n",
       "    <tr>\n",
       "      <td>1</td>\n",
       "      <td>Austria</td>\n",
       "      <td>Lesbian</td>\n",
       "      <td>e1</td>\n",
       "      <td>Do you avoid holding hands in public with a sa...</td>\n",
       "      <td>No</td>\n",
       "      <td>53</td>\n",
       "    </tr>\n",
       "    <tr>\n",
       "      <td>2</td>\n",
       "      <td>Austria</td>\n",
       "      <td>Lesbian</td>\n",
       "      <td>e1</td>\n",
       "      <td>Do you avoid holding hands in public with a sa...</td>\n",
       "      <td>I do not have a same-sex partner</td>\n",
       "      <td>12</td>\n",
       "    </tr>\n",
       "    <tr>\n",
       "      <td>3</td>\n",
       "      <td>Austria</td>\n",
       "      <td>Lesbian</td>\n",
       "      <td>e1</td>\n",
       "      <td>Do you avoid holding hands in public with a sa...</td>\n",
       "      <td>Don`t know</td>\n",
       "      <td>2</td>\n",
       "    </tr>\n",
       "    <tr>\n",
       "      <td>4</td>\n",
       "      <td>Austria</td>\n",
       "      <td>Gay</td>\n",
       "      <td>e1</td>\n",
       "      <td>Do you avoid holding hands in public with a sa...</td>\n",
       "      <td>Yes</td>\n",
       "      <td>51</td>\n",
       "    </tr>\n",
       "    <tr>\n",
       "      <td>...</td>\n",
       "      <td>...</td>\n",
       "      <td>...</td>\n",
       "      <td>...</td>\n",
       "      <td>...</td>\n",
       "      <td>...</td>\n",
       "      <td>...</td>\n",
       "    </tr>\n",
       "    <tr>\n",
       "      <td>45350</td>\n",
       "      <td>Average</td>\n",
       "      <td>Transgender</td>\n",
       "      <td>fb2_9</td>\n",
       "      <td>MOST SERIOUS incident of harassment - Do you t...</td>\n",
       "      <td>Lesbian</td>\n",
       "      <td>1</td>\n",
       "    </tr>\n",
       "    <tr>\n",
       "      <td>45351</td>\n",
       "      <td>Average</td>\n",
       "      <td>Transgender</td>\n",
       "      <td>fb2_9</td>\n",
       "      <td>MOST SERIOUS incident of harassment - Do you t...</td>\n",
       "      <td>Gay</td>\n",
       "      <td>2</td>\n",
       "    </tr>\n",
       "    <tr>\n",
       "      <td>45352</td>\n",
       "      <td>Average</td>\n",
       "      <td>Transgender</td>\n",
       "      <td>fb2_9</td>\n",
       "      <td>MOST SERIOUS incident of harassment - Do you t...</td>\n",
       "      <td>Bisexual</td>\n",
       "      <td>1</td>\n",
       "    </tr>\n",
       "    <tr>\n",
       "      <td>45353</td>\n",
       "      <td>Average</td>\n",
       "      <td>Transgender</td>\n",
       "      <td>fb2_9</td>\n",
       "      <td>MOST SERIOUS incident of harassment - Do you t...</td>\n",
       "      <td>Mixed sexual orientation</td>\n",
       "      <td>5</td>\n",
       "    </tr>\n",
       "    <tr>\n",
       "      <td>45354</td>\n",
       "      <td>Average</td>\n",
       "      <td>Transgender</td>\n",
       "      <td>fb2_9</td>\n",
       "      <td>MOST SERIOUS incident of harassment - Do you t...</td>\n",
       "      <td>Don`t know</td>\n",
       "      <td>29</td>\n",
       "    </tr>\n",
       "  </tbody>\n",
       "</table>\n",
       "<p>38458 rows × 6 columns</p>\n",
       "</div>"
      ],
      "text/plain": [
       "      CountryCode       subset question_code  \\\n",
       "0         Austria      Lesbian            e1   \n",
       "1         Austria      Lesbian            e1   \n",
       "2         Austria      Lesbian            e1   \n",
       "3         Austria      Lesbian            e1   \n",
       "4         Austria          Gay            e1   \n",
       "...           ...          ...           ...   \n",
       "45350     Average  Transgender         fb2_9   \n",
       "45351     Average  Transgender         fb2_9   \n",
       "45352     Average  Transgender         fb2_9   \n",
       "45353     Average  Transgender         fb2_9   \n",
       "45354     Average  Transgender         fb2_9   \n",
       "\n",
       "                                          question_label  \\\n",
       "0      Do you avoid holding hands in public with a sa...   \n",
       "1      Do you avoid holding hands in public with a sa...   \n",
       "2      Do you avoid holding hands in public with a sa...   \n",
       "3      Do you avoid holding hands in public with a sa...   \n",
       "4      Do you avoid holding hands in public with a sa...   \n",
       "...                                                  ...   \n",
       "45350  MOST SERIOUS incident of harassment - Do you t...   \n",
       "45351  MOST SERIOUS incident of harassment - Do you t...   \n",
       "45352  MOST SERIOUS incident of harassment - Do you t...   \n",
       "45353  MOST SERIOUS incident of harassment - Do you t...   \n",
       "45354  MOST SERIOUS incident of harassment - Do you t...   \n",
       "\n",
       "                                 answer  percentage  \n",
       "0                                   Yes          33  \n",
       "1                                    No          53  \n",
       "2      I do not have a same-sex partner          12  \n",
       "3                            Don`t know           2  \n",
       "4                                   Yes          51  \n",
       "...                                 ...         ...  \n",
       "45350                           Lesbian           1  \n",
       "45351                               Gay           2  \n",
       "45352                          Bisexual           1  \n",
       "45353          Mixed sexual orientation           5  \n",
       "45354                        Don`t know          29  \n",
       "\n",
       "[38458 rows x 6 columns]"
      ]
     },
     "execution_count": 1,
     "metadata": {},
     "output_type": "execute_result"
    }
   ],
   "source": [
    "%matplotlib inline\n",
    "import matplotlib.pyplot as plt\n",
    "plt.style.use('seaborn-whitegrid')\n",
    "plt.rcParams['figure.figsize'] = (12, 4)\n",
    "import pandas as pd\n",
    "import numpy as np\n",
    "\n",
    "try:\n",
    "    lgbt = pd.read_csv(\"european-union-lgbt-survey-2012/LGBT_Survey_ViolenceAndHarassment.csv\")\n",
    "except IOError:\n",
    "    lgbt = pd.read_csv(\"LGBT_Survey_ViolenceAndHarassment.csv\")\n",
    "\n",
    "lgbt = lgbt.drop(['notes'], axis=1)\n",
    "lgbt['percentage'] = [int(x) for x in lgbt['percentage']]\n",
    "bad_rows = lgbt[lgbt['percentage'] == -1].index\n",
    "lgbt = lgbt.drop(bad_rows)\n",
    "\n",
    "lgbt\n"
   ]
  },
  {
   "cell_type": "code",
   "execution_count": 2,
   "metadata": {},
   "outputs": [],
   "source": [
    "def laplace_mech(v, sensitivity, epsilon):\n",
    "    return v + np.random.laplace(loc=0, scale=sensitivity / epsilon)\n",
    "\n",
    "def pct_error(orig, priv):\n",
    "    return np.abs(orig - priv)/orig * 100.0"
   ]
  },
  {
   "cell_type": "code",
   "execution_count": 3,
   "metadata": {},
   "outputs": [
    {
     "data": {
      "text/html": [
       "<div>\n",
       "<style scoped>\n",
       "    .dataframe tbody tr th:only-of-type {\n",
       "        vertical-align: middle;\n",
       "    }\n",
       "\n",
       "    .dataframe tbody tr th {\n",
       "        vertical-align: top;\n",
       "    }\n",
       "\n",
       "    .dataframe thead th {\n",
       "        text-align: right;\n",
       "    }\n",
       "</style>\n",
       "<table border=\"1\" class=\"dataframe\">\n",
       "  <thead>\n",
       "    <tr style=\"text-align: right;\">\n",
       "      <th></th>\n",
       "      <th>CountryCode</th>\n",
       "      <th>subset</th>\n",
       "      <th>question_code</th>\n",
       "      <th>question_label</th>\n",
       "      <th>answer</th>\n",
       "      <th>percentage</th>\n",
       "    </tr>\n",
       "  </thead>\n",
       "  <tbody>\n",
       "    <tr>\n",
       "      <td>0</td>\n",
       "      <td>Austria</td>\n",
       "      <td>Lesbian</td>\n",
       "      <td>e1</td>\n",
       "      <td>Do you avoid holding hands in public with a sa...</td>\n",
       "      <td>Yes</td>\n",
       "      <td>31.172867</td>\n",
       "    </tr>\n",
       "    <tr>\n",
       "      <td>1</td>\n",
       "      <td>Austria</td>\n",
       "      <td>Lesbian</td>\n",
       "      <td>e1</td>\n",
       "      <td>Do you avoid holding hands in public with a sa...</td>\n",
       "      <td>No</td>\n",
       "      <td>51.832667</td>\n",
       "    </tr>\n",
       "    <tr>\n",
       "      <td>2</td>\n",
       "      <td>Austria</td>\n",
       "      <td>Lesbian</td>\n",
       "      <td>e1</td>\n",
       "      <td>Do you avoid holding hands in public with a sa...</td>\n",
       "      <td>I do not have a same-sex partner</td>\n",
       "      <td>13.408941</td>\n",
       "    </tr>\n",
       "    <tr>\n",
       "      <td>3</td>\n",
       "      <td>Austria</td>\n",
       "      <td>Lesbian</td>\n",
       "      <td>e1</td>\n",
       "      <td>Do you avoid holding hands in public with a sa...</td>\n",
       "      <td>Don`t know</td>\n",
       "      <td>1.872956</td>\n",
       "    </tr>\n",
       "    <tr>\n",
       "      <td>4</td>\n",
       "      <td>Austria</td>\n",
       "      <td>Gay</td>\n",
       "      <td>e1</td>\n",
       "      <td>Do you avoid holding hands in public with a sa...</td>\n",
       "      <td>Yes</td>\n",
       "      <td>51.192106</td>\n",
       "    </tr>\n",
       "    <tr>\n",
       "      <td>...</td>\n",
       "      <td>...</td>\n",
       "      <td>...</td>\n",
       "      <td>...</td>\n",
       "      <td>...</td>\n",
       "      <td>...</td>\n",
       "      <td>...</td>\n",
       "    </tr>\n",
       "    <tr>\n",
       "      <td>45350</td>\n",
       "      <td>Average</td>\n",
       "      <td>Transgender</td>\n",
       "      <td>fb2_9</td>\n",
       "      <td>MOST SERIOUS incident of harassment - Do you t...</td>\n",
       "      <td>Lesbian</td>\n",
       "      <td>1.041693</td>\n",
       "    </tr>\n",
       "    <tr>\n",
       "      <td>45351</td>\n",
       "      <td>Average</td>\n",
       "      <td>Transgender</td>\n",
       "      <td>fb2_9</td>\n",
       "      <td>MOST SERIOUS incident of harassment - Do you t...</td>\n",
       "      <td>Gay</td>\n",
       "      <td>0.432664</td>\n",
       "    </tr>\n",
       "    <tr>\n",
       "      <td>45352</td>\n",
       "      <td>Average</td>\n",
       "      <td>Transgender</td>\n",
       "      <td>fb2_9</td>\n",
       "      <td>MOST SERIOUS incident of harassment - Do you t...</td>\n",
       "      <td>Bisexual</td>\n",
       "      <td>0.501632</td>\n",
       "    </tr>\n",
       "    <tr>\n",
       "      <td>45353</td>\n",
       "      <td>Average</td>\n",
       "      <td>Transgender</td>\n",
       "      <td>fb2_9</td>\n",
       "      <td>MOST SERIOUS incident of harassment - Do you t...</td>\n",
       "      <td>Mixed sexual orientation</td>\n",
       "      <td>5.601702</td>\n",
       "    </tr>\n",
       "    <tr>\n",
       "      <td>45354</td>\n",
       "      <td>Average</td>\n",
       "      <td>Transgender</td>\n",
       "      <td>fb2_9</td>\n",
       "      <td>MOST SERIOUS incident of harassment - Do you t...</td>\n",
       "      <td>Don`t know</td>\n",
       "      <td>26.046429</td>\n",
       "    </tr>\n",
       "  </tbody>\n",
       "</table>\n",
       "<p>38458 rows × 6 columns</p>\n",
       "</div>"
      ],
      "text/plain": [
       "      CountryCode       subset question_code  \\\n",
       "0         Austria      Lesbian            e1   \n",
       "1         Austria      Lesbian            e1   \n",
       "2         Austria      Lesbian            e1   \n",
       "3         Austria      Lesbian            e1   \n",
       "4         Austria          Gay            e1   \n",
       "...           ...          ...           ...   \n",
       "45350     Average  Transgender         fb2_9   \n",
       "45351     Average  Transgender         fb2_9   \n",
       "45352     Average  Transgender         fb2_9   \n",
       "45353     Average  Transgender         fb2_9   \n",
       "45354     Average  Transgender         fb2_9   \n",
       "\n",
       "                                          question_label  \\\n",
       "0      Do you avoid holding hands in public with a sa...   \n",
       "1      Do you avoid holding hands in public with a sa...   \n",
       "2      Do you avoid holding hands in public with a sa...   \n",
       "3      Do you avoid holding hands in public with a sa...   \n",
       "4      Do you avoid holding hands in public with a sa...   \n",
       "...                                                  ...   \n",
       "45350  MOST SERIOUS incident of harassment - Do you t...   \n",
       "45351  MOST SERIOUS incident of harassment - Do you t...   \n",
       "45352  MOST SERIOUS incident of harassment - Do you t...   \n",
       "45353  MOST SERIOUS incident of harassment - Do you t...   \n",
       "45354  MOST SERIOUS incident of harassment - Do you t...   \n",
       "\n",
       "                                 answer  percentage  \n",
       "0                                   Yes   31.172867  \n",
       "1                                    No   51.832667  \n",
       "2      I do not have a same-sex partner   13.408941  \n",
       "3                            Don`t know    1.872956  \n",
       "4                                   Yes   51.192106  \n",
       "...                                 ...         ...  \n",
       "45350                           Lesbian    1.041693  \n",
       "45351                               Gay    0.432664  \n",
       "45352                          Bisexual    0.501632  \n",
       "45353          Mixed sexual orientation    5.601702  \n",
       "45354                        Don`t know   26.046429  \n",
       "\n",
       "[38458 rows x 6 columns]"
      ]
     },
     "execution_count": 3,
     "metadata": {},
     "output_type": "execute_result"
    }
   ],
   "source": [
    "lgbt_synthetic = lgbt.copy() # copying to maintain original for comparison\n",
    "lgbt_synthetic['percentage'] = np.clip([laplace_mech(x, 1, 1) for x in lgbt['percentage']], 0, 100)\n",
    "lgbt_synthetic"
   ]
  },
  {
   "cell_type": "code",
   "execution_count": 16,
   "metadata": {},
   "outputs": [
    {
     "data": {
      "image/png": "[encoded data removed]",
      "text/plain": [
       "<Figure size 432x288 with 1 Axes>"
      ]
     },
     "metadata": {
      "needs_background": "light"
     },
     "output_type": "display_data"
    }
   ],
   "source": [
    "plt.hist(lgbt['percentage'], bins=100, label='Original');\n",
    "plt.hist(lgbt_synthetic['percentage'], bins=100, alpha=.4, label='Synthetic');\n",
    "plt.xlabel(\"Percentage\")\n",
    "plt.ylabel(\"Appearance\")\n",
    "plt.legend();"
   ]
  },
  {
   "cell_type": "code",
   "execution_count": 5,
   "metadata": {},
   "outputs": [
    {
     "data": {
      "image/png": "[encoded data removed]",
      "text/plain": [
       "<Figure size 432x288 with 1 Axes>"
      ]
     },
     "metadata": {
      "needs_background": "light"
     },
     "output_type": "display_data"
    }
   ],
   "source": [
    "# from lecture notes\n",
    "def range_query(df, col, a, b):\n",
    "    return len(df[(df[col] >= a) & (df[col] < b)])\n",
    "\n",
    "bins = list(range(0, 100))\n",
    "counts = [range_query(lgbt, 'percentage', b, b+1) for b in bins]\n",
    "plt.bar(bins, counts);"
   ]
  },
  {
   "cell_type": "code",
   "execution_count": 6,
   "metadata": {},
   "outputs": [
    {
     "data": {
      "image/png": "[encoded data removed]",
      "text/plain": [
       "<Figure size 432x288 with 1 Axes>"
      ]
     },
     "metadata": {
      "needs_background": "light"
     },
     "output_type": "display_data"
    }
   ],
   "source": [
    "counts = [range_query(lgbt_synthetic, 'percentage', b, b+1) for b in bins]\n",
    "plt.bar(bins, counts);"
   ]
  },
  {
   "cell_type": "code",
   "execution_count": 7,
   "metadata": {
    "scrolled": true
   },
   "outputs": [
    {
     "data": {
      "image/png": "[encoded data removed]",
      "text/plain": [
       "<Figure size 432x288 with 1 Axes>"
      ]
     },
     "metadata": {
      "needs_background": "light"
     },
     "output_type": "display_data"
    }
   ],
   "source": [
    "dp_syn_counts = [laplace_mech(c, 1, 1) for c in counts]\n",
    "plt.bar(bins, dp_syn_counts);"
   ]
  },
  {
   "cell_type": "code",
   "execution_count": 8,
   "metadata": {
    "scrolled": true
   },
   "outputs": [
    {
     "name": "stdout",
     "output_type": "stream",
     "text": [
      "Original: 4936\n",
      "Synthetic: 4876.792972209722\n",
      "Percent Error: 1.1994940800299354%\n"
     ]
    }
   ],
   "source": [
    "def range_query_synth(syn_rep, a, b): # function from lecture notes\n",
    "    total = 0\n",
    "    for i in range(a, b):\n",
    "        total += syn_rep[i]\n",
    "    return total\n",
    "\n",
    "original_count = range_query(lgbt, 'percentage', 50, 100)\n",
    "synthetic_count = range_query_synth(dp_syn_counts, 50, 100)\n",
    "print(\"Original: \" + str(original_count))\n",
    "print(\"Synthetic: \" + str(synthetic_count))\n",
    "print(\"Percent Error: \" + str(pct_error(original_count, synthetic_count)) + \"%\")"
   ]
  },
  {
   "cell_type": "code",
   "execution_count": 40,
   "metadata": {},
   "outputs": [
    {
     "data": {
      "image/png": "[encoded data removed]",
      "text/plain": [
       "<Figure size 432x288 with 1 Axes>"
      ]
     },
     "metadata": {},
     "output_type": "display_data"
    },
    {
     "data": {
      "image/png": "[encoded data removed]",
      "text/plain": [
       "<Figure size 432x288 with 1 Axes>"
      ]
     },
     "metadata": {},
     "output_type": "display_data"
    }
   ],
   "source": [
    "labels = [lgbt['CountryCode'][i] + \": \" + lgbt['subset'][i] + \": \" + lgbt[\"answer\"][i] for i in range(4)]\n",
    "\n",
    "plt.pie(lgbt['percentage'][0:4], labels=labels, autopct='%1.1f%%', shadow=True);\n",
    "plt.legend([\"(Original Data) Question: \" + lgbt[\"question_label\"][0]])\n",
    "plt.show()\n",
    "plt.pie(lgbt_synthetic['percentage'][0:4], labels=labels, autopct='%1.1f%%', shadow=True);\n",
    "plt.legend([\"(Synthetic Representation) Question: \" + lgbt[\"question_label\"][0]]);"
   ]
  },
  {
   "cell_type": "code",
   "execution_count": 9,
   "metadata": {
    "scrolled": true
   },
   "outputs": [
    {
     "data": {
      "image/png": "[encoded data removed]",
      "text/plain": [
       "<Figure size 432x288 with 1 Axes>"
      ]
     },
     "metadata": {
      "needs_background": "light"
     },
     "output_type": "display_data"
    }
   ],
   "source": [
    "# dp_syn_rep_nn = np.clip(dp_syn_counts, 0, None)\n",
    "# syn_normalized = dp_syn_rep_nn / np.sum(dp_syn_rep_nn)\n",
    "# plt.bar(bins, syn_normalized);"
   ]
  },
  {
   "cell_type": "code",
   "execution_count": 10,
   "metadata": {},
   "outputs": [
    {
     "data": {
      "text/html": [
       "<div>\n",
       "<style scoped>\n",
       "    .dataframe tbody tr th:only-of-type {\n",
       "        vertical-align: middle;\n",
       "    }\n",
       "\n",
       "    .dataframe tbody tr th {\n",
       "        vertical-align: top;\n",
       "    }\n",
       "\n",
       "    .dataframe thead th {\n",
       "        text-align: right;\n",
       "    }\n",
       "</style>\n",
       "<table border=\"1\" class=\"dataframe\">\n",
       "  <thead>\n",
       "    <tr style=\"text-align: right;\">\n",
       "      <th></th>\n",
       "      <th>percentage</th>\n",
       "    </tr>\n",
       "  </thead>\n",
       "  <tbody>\n",
       "    <tr>\n",
       "      <td>0</td>\n",
       "      <td>58</td>\n",
       "    </tr>\n",
       "    <tr>\n",
       "      <td>1</td>\n",
       "      <td>1</td>\n",
       "    </tr>\n",
       "    <tr>\n",
       "      <td>2</td>\n",
       "      <td>0</td>\n",
       "    </tr>\n",
       "    <tr>\n",
       "      <td>3</td>\n",
       "      <td>21</td>\n",
       "    </tr>\n",
       "    <tr>\n",
       "      <td>4</td>\n",
       "      <td>13</td>\n",
       "    </tr>\n",
       "    <tr>\n",
       "      <td>...</td>\n",
       "      <td>...</td>\n",
       "    </tr>\n",
       "    <tr>\n",
       "      <td>38453</td>\n",
       "      <td>40</td>\n",
       "    </tr>\n",
       "    <tr>\n",
       "      <td>38454</td>\n",
       "      <td>39</td>\n",
       "    </tr>\n",
       "    <tr>\n",
       "      <td>38455</td>\n",
       "      <td>1</td>\n",
       "    </tr>\n",
       "    <tr>\n",
       "      <td>38456</td>\n",
       "      <td>13</td>\n",
       "    </tr>\n",
       "    <tr>\n",
       "      <td>38457</td>\n",
       "      <td>48</td>\n",
       "    </tr>\n",
       "  </tbody>\n",
       "</table>\n",
       "<p>38458 rows × 1 columns</p>\n",
       "</div>"
      ],
      "text/plain": [
       "       percentage\n",
       "0              58\n",
       "1               1\n",
       "2               0\n",
       "3              21\n",
       "4              13\n",
       "...           ...\n",
       "38453          40\n",
       "38454          39\n",
       "38455           1\n",
       "38456          13\n",
       "38457          48\n",
       "\n",
       "[38458 rows x 1 columns]"
      ]
     },
     "execution_count": 10,
     "metadata": {},
     "output_type": "execute_result"
    }
   ],
   "source": [
    "# def gen_samples(n):\n",
    "#     return np.random.choice(bins, n, p=syn_normalized)\n",
    "\n",
    "# syn_data = pd.DataFrame(gen_samples(lgbt.shape[0]), columns=['percentage'])\n",
    "# syn_data"
   ]
  },
  {
   "cell_type": "code",
   "execution_count": 11,
   "metadata": {
    "scrolled": true
   },
   "outputs": [
    {
     "data": {
      "image/png": "[encoded data removed]",
      "text/plain": [
       "<Figure size 432x288 with 1 Axes>"
      ]
     },
     "metadata": {
      "needs_background": "light"
     },
     "output_type": "display_data"
    }
   ],
   "source": [
    "# plt.hist(syn_data['percentage'], bins=bins);"
   ]
  },
  {
   "cell_type": "code",
   "execution_count": 12,
   "metadata": {},
   "outputs": [
    {
     "data": {
      "text/html": [
       "<div>\n",
       "<style scoped>\n",
       "    .dataframe tbody tr th:only-of-type {\n",
       "        vertical-align: middle;\n",
       "    }\n",
       "\n",
       "    .dataframe tbody tr th {\n",
       "        vertical-align: top;\n",
       "    }\n",
       "\n",
       "    .dataframe thead th {\n",
       "        text-align: right;\n",
       "    }\n",
       "</style>\n",
       "<table border=\"1\" class=\"dataframe\">\n",
       "  <thead>\n",
       "    <tr style=\"text-align: right;\">\n",
       "      <th>subset</th>\n",
       "      <th>Bisexual men</th>\n",
       "      <th>Bisexual women</th>\n",
       "      <th>Gay</th>\n",
       "      <th>Lesbian</th>\n",
       "      <th>Transgender</th>\n",
       "    </tr>\n",
       "    <tr>\n",
       "      <th>percentage</th>\n",
       "      <th></th>\n",
       "      <th></th>\n",
       "      <th></th>\n",
       "      <th></th>\n",
       "      <th></th>\n",
       "    </tr>\n",
       "  </thead>\n",
       "  <tbody>\n",
       "    <tr>\n",
       "      <td>0</td>\n",
       "      <td>575</td>\n",
       "      <td>570</td>\n",
       "      <td>584</td>\n",
       "      <td>562</td>\n",
       "      <td>458</td>\n",
       "    </tr>\n",
       "    <tr>\n",
       "      <td>1</td>\n",
       "      <td>185</td>\n",
       "      <td>378</td>\n",
       "      <td>788</td>\n",
       "      <td>594</td>\n",
       "      <td>326</td>\n",
       "    </tr>\n",
       "    <tr>\n",
       "      <td>2</td>\n",
       "      <td>378</td>\n",
       "      <td>464</td>\n",
       "      <td>799</td>\n",
       "      <td>615</td>\n",
       "      <td>484</td>\n",
       "    </tr>\n",
       "    <tr>\n",
       "      <td>3</td>\n",
       "      <td>439</td>\n",
       "      <td>421</td>\n",
       "      <td>712</td>\n",
       "      <td>544</td>\n",
       "      <td>434</td>\n",
       "    </tr>\n",
       "    <tr>\n",
       "      <td>4</td>\n",
       "      <td>345</td>\n",
       "      <td>357</td>\n",
       "      <td>652</td>\n",
       "      <td>570</td>\n",
       "      <td>358</td>\n",
       "    </tr>\n",
       "    <tr>\n",
       "      <td>...</td>\n",
       "      <td>...</td>\n",
       "      <td>...</td>\n",
       "      <td>...</td>\n",
       "      <td>...</td>\n",
       "      <td>...</td>\n",
       "    </tr>\n",
       "    <tr>\n",
       "      <td>96</td>\n",
       "      <td>8</td>\n",
       "      <td>15</td>\n",
       "      <td>13</td>\n",
       "      <td>14</td>\n",
       "      <td>3</td>\n",
       "    </tr>\n",
       "    <tr>\n",
       "      <td>97</td>\n",
       "      <td>4</td>\n",
       "      <td>10</td>\n",
       "      <td>9</td>\n",
       "      <td>9</td>\n",
       "      <td>0</td>\n",
       "    </tr>\n",
       "    <tr>\n",
       "      <td>98</td>\n",
       "      <td>4</td>\n",
       "      <td>8</td>\n",
       "      <td>6</td>\n",
       "      <td>8</td>\n",
       "      <td>3</td>\n",
       "    </tr>\n",
       "    <tr>\n",
       "      <td>99</td>\n",
       "      <td>0</td>\n",
       "      <td>3</td>\n",
       "      <td>1</td>\n",
       "      <td>3</td>\n",
       "      <td>0</td>\n",
       "    </tr>\n",
       "    <tr>\n",
       "      <td>100</td>\n",
       "      <td>7</td>\n",
       "      <td>15</td>\n",
       "      <td>0</td>\n",
       "      <td>3</td>\n",
       "      <td>2</td>\n",
       "    </tr>\n",
       "  </tbody>\n",
       "</table>\n",
       "<p>101 rows × 5 columns</p>\n",
       "</div>"
      ],
      "text/plain": [
       "subset      Bisexual men  Bisexual women  Gay  Lesbian  Transgender\n",
       "percentage                                                         \n",
       "0                    575             570  584      562          458\n",
       "1                    185             378  788      594          326\n",
       "2                    378             464  799      615          484\n",
       "3                    439             421  712      544          434\n",
       "4                    345             357  652      570          358\n",
       "...                  ...             ...  ...      ...          ...\n",
       "96                     8              15   13       14            3\n",
       "97                     4              10    9        9            0\n",
       "98                     4               8    6        8            3\n",
       "99                     0               3    1        3            0\n",
       "100                    7              15    0        3            2\n",
       "\n",
       "[101 rows x 5 columns]"
      ]
     },
     "execution_count": 12,
     "metadata": {},
     "output_type": "execute_result"
    }
   ],
   "source": [
    "# ct = pd.crosstab(lgbt['percentage'], lgbt['subset'])\n",
    "# ct"
   ]
  },
  {
   "cell_type": "code",
   "execution_count": 13,
   "metadata": {},
   "outputs": [
    {
     "data": {
      "text/plain": [
       "((0, 'Bisexual men'), 0.014904401771556584)"
      ]
     },
     "execution_count": 13,
     "metadata": {},
     "output_type": "execute_result"
    }
   ],
   "source": [
    "# dp_ct = ct.applymap(lambda x: max(laplace_mech(x, 1, 1), 0)) # from lecture notes\n",
    "# dp_vals = dp_ct.stack().reset_index().values.tolist()\n",
    "# probs = [p for _,_,p in dp_vals]\n",
    "# vals = [(a,b) for a,b,_ in dp_vals]\n",
    "# probs_norm = probs / np.sum(probs)\n",
    "# list(zip(vals, probs_norm))[0]\n"
   ]
  }
 ],
 "metadata": {
  "kernelspec": {
   "display_name": "Python 3",
   "language": "python",
   "name": "python3"
  },
  "language_info": {
   "codemirror_mode": {
    "name": "ipython",
    "version": 3
   },
   "file_extension": ".py",
   "mimetype": "text/x-python",
   "name": "python",
   "nbconvert_exporter": "python",
   "pygments_lexer": "ipython3",
   "version": "3.7.3"
  }
 },
 "nbformat": 4,
 "nbformat_minor": 2
}
