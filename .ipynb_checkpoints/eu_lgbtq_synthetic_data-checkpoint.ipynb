{
 "cells": [
  {
   "cell_type": "code",
   "execution_count": 1,
   "metadata": {},
   "outputs": [
    {
     "data": {
      "text/html": [
       "<div>\n",
       "<style scoped>\n",
       "    .dataframe tbody tr th:only-of-type {\n",
       "        vertical-align: middle;\n",
       "    }\n",
       "\n",
       "    .dataframe tbody tr th {\n",
       "        vertical-align: top;\n",
       "    }\n",
       "\n",
       "    .dataframe thead th {\n",
       "        text-align: right;\n",
       "    }\n",
       "</style>\n",
       "<table border=\"1\" class=\"dataframe\">\n",
       "  <thead>\n",
       "    <tr style=\"text-align: right;\">\n",
       "      <th></th>\n",
       "      <th>CountryCode</th>\n",
       "      <th>subset</th>\n",
       "      <th>question_code</th>\n",
       "      <th>question_label</th>\n",
       "      <th>answer</th>\n",
       "      <th>percentage</th>\n",
       "    </tr>\n",
       "  </thead>\n",
       "  <tbody>\n",
       "    <tr>\n",
       "      <td>0</td>\n",
       "      <td>Austria</td>\n",
       "      <td>Lesbian</td>\n",
       "      <td>e1</td>\n",
       "      <td>Do you avoid holding hands in public with a sa...</td>\n",
       "      <td>Yes</td>\n",
       "      <td>33</td>\n",
       "    </tr>\n",
       "    <tr>\n",
       "      <td>1</td>\n",
       "      <td>Austria</td>\n",
       "      <td>Lesbian</td>\n",
       "      <td>e1</td>\n",
       "      <td>Do you avoid holding hands in public with a sa...</td>\n",
       "      <td>No</td>\n",
       "      <td>53</td>\n",
       "    </tr>\n",
       "    <tr>\n",
       "      <td>2</td>\n",
       "      <td>Austria</td>\n",
       "      <td>Lesbian</td>\n",
       "      <td>e1</td>\n",
       "      <td>Do you avoid holding hands in public with a sa...</td>\n",
       "      <td>I do not have a same-sex partner</td>\n",
       "      <td>12</td>\n",
       "    </tr>\n",
       "    <tr>\n",
       "      <td>3</td>\n",
       "      <td>Austria</td>\n",
       "      <td>Lesbian</td>\n",
       "      <td>e1</td>\n",
       "      <td>Do you avoid holding hands in public with a sa...</td>\n",
       "      <td>Don`t know</td>\n",
       "      <td>2</td>\n",
       "    </tr>\n",
       "    <tr>\n",
       "      <td>4</td>\n",
       "      <td>Austria</td>\n",
       "      <td>Gay</td>\n",
       "      <td>e1</td>\n",
       "      <td>Do you avoid holding hands in public with a sa...</td>\n",
       "      <td>Yes</td>\n",
       "      <td>51</td>\n",
       "    </tr>\n",
       "    <tr>\n",
       "      <td>...</td>\n",
       "      <td>...</td>\n",
       "      <td>...</td>\n",
       "      <td>...</td>\n",
       "      <td>...</td>\n",
       "      <td>...</td>\n",
       "      <td>...</td>\n",
       "    </tr>\n",
       "    <tr>\n",
       "      <td>45350</td>\n",
       "      <td>Average</td>\n",
       "      <td>Transgender</td>\n",
       "      <td>fb2_9</td>\n",
       "      <td>MOST SERIOUS incident of harassment - Do you t...</td>\n",
       "      <td>Lesbian</td>\n",
       "      <td>1</td>\n",
       "    </tr>\n",
       "    <tr>\n",
       "      <td>45351</td>\n",
       "      <td>Average</td>\n",
       "      <td>Transgender</td>\n",
       "      <td>fb2_9</td>\n",
       "      <td>MOST SERIOUS incident of harassment - Do you t...</td>\n",
       "      <td>Gay</td>\n",
       "      <td>2</td>\n",
       "    </tr>\n",
       "    <tr>\n",
       "      <td>45352</td>\n",
       "      <td>Average</td>\n",
       "      <td>Transgender</td>\n",
       "      <td>fb2_9</td>\n",
       "      <td>MOST SERIOUS incident of harassment - Do you t...</td>\n",
       "      <td>Bisexual</td>\n",
       "      <td>1</td>\n",
       "    </tr>\n",
       "    <tr>\n",
       "      <td>45353</td>\n",
       "      <td>Average</td>\n",
       "      <td>Transgender</td>\n",
       "      <td>fb2_9</td>\n",
       "      <td>MOST SERIOUS incident of harassment - Do you t...</td>\n",
       "      <td>Mixed sexual orientation</td>\n",
       "      <td>5</td>\n",
       "    </tr>\n",
       "    <tr>\n",
       "      <td>45354</td>\n",
       "      <td>Average</td>\n",
       "      <td>Transgender</td>\n",
       "      <td>fb2_9</td>\n",
       "      <td>MOST SERIOUS incident of harassment - Do you t...</td>\n",
       "      <td>Don`t know</td>\n",
       "      <td>29</td>\n",
       "    </tr>\n",
       "  </tbody>\n",
       "</table>\n",
       "<p>38458 rows × 6 columns</p>\n",
       "</div>"
      ],
      "text/plain": [
       "      CountryCode       subset question_code  \\\n",
       "0         Austria      Lesbian            e1   \n",
       "1         Austria      Lesbian            e1   \n",
       "2         Austria      Lesbian            e1   \n",
       "3         Austria      Lesbian            e1   \n",
       "4         Austria          Gay            e1   \n",
       "...           ...          ...           ...   \n",
       "45350     Average  Transgender         fb2_9   \n",
       "45351     Average  Transgender         fb2_9   \n",
       "45352     Average  Transgender         fb2_9   \n",
       "45353     Average  Transgender         fb2_9   \n",
       "45354     Average  Transgender         fb2_9   \n",
       "\n",
       "                                          question_label  \\\n",
       "0      Do you avoid holding hands in public with a sa...   \n",
       "1      Do you avoid holding hands in public with a sa...   \n",
       "2      Do you avoid holding hands in public with a sa...   \n",
       "3      Do you avoid holding hands in public with a sa...   \n",
       "4      Do you avoid holding hands in public with a sa...   \n",
       "...                                                  ...   \n",
       "45350  MOST SERIOUS incident of harassment - Do you t...   \n",
       "45351  MOST SERIOUS incident of harassment - Do you t...   \n",
       "45352  MOST SERIOUS incident of harassment - Do you t...   \n",
       "45353  MOST SERIOUS incident of harassment - Do you t...   \n",
       "45354  MOST SERIOUS incident of harassment - Do you t...   \n",
       "\n",
       "                                 answer  percentage  \n",
       "0                                   Yes          33  \n",
       "1                                    No          53  \n",
       "2      I do not have a same-sex partner          12  \n",
       "3                            Don`t know           2  \n",
       "4                                   Yes          51  \n",
       "...                                 ...         ...  \n",
       "45350                           Lesbian           1  \n",
       "45351                               Gay           2  \n",
       "45352                          Bisexual           1  \n",
       "45353          Mixed sexual orientation           5  \n",
       "45354                        Don`t know          29  \n",
       "\n",
       "[38458 rows x 6 columns]"
      ]
     },
     "execution_count": 1,
     "metadata": {},
     "output_type": "execute_result"
    }
   ],
   "source": [
    "%matplotlib inline\n",
    "import matplotlib.pyplot as plt\n",
    "plt.style.use('seaborn-whitegrid')\n",
    "plt.rcParams['figure.figsize'] = (12, 4)\n",
    "import pandas as pd\n",
    "import numpy as np\n",
    "\n",
    "lgbt = pd.read_csv(\"european-union-lgbt-survey-2012/LGBT_Survey_ViolenceAndHarassment.csv\")\n",
    "\n",
    "lgbt = lgbt.drop(['notes'], axis=1)\n",
    "lgbt['percentage'] = [int(x) for x in lgbt['percentage']]\n",
    "bad_rows = lgbt[lgbt['percentage'] == -1].index\n",
    "lgbt = lgbt.drop(bad_rows)\n",
    "\n",
    "lgbt\n"
   ]
  },
  {
   "cell_type": "code",
   "execution_count": 2,
   "metadata": {},
   "outputs": [],
   "source": [
    "def laplace_mech(v, sensitivity, epsilon):\n",
    "    return v + np.random.laplace(loc=0, scale=sensitivity / epsilon)\n",
    "\n",
    "def pct_error(orig, priv):\n",
    "    return np.abs(orig - priv)/orig * 100.0"
   ]
  },
  {
   "cell_type": "code",
   "execution_count": 3,
   "metadata": {},
   "outputs": [
    {
     "data": {
      "text/html": [
       "<div>\n",
       "<style scoped>\n",
       "    .dataframe tbody tr th:only-of-type {\n",
       "        vertical-align: middle;\n",
       "    }\n",
       "\n",
       "    .dataframe tbody tr th {\n",
       "        vertical-align: top;\n",
       "    }\n",
       "\n",
       "    .dataframe thead th {\n",
       "        text-align: right;\n",
       "    }\n",
       "</style>\n",
       "<table border=\"1\" class=\"dataframe\">\n",
       "  <thead>\n",
       "    <tr style=\"text-align: right;\">\n",
       "      <th></th>\n",
       "      <th>CountryCode</th>\n",
       "      <th>subset</th>\n",
       "      <th>question_code</th>\n",
       "      <th>question_label</th>\n",
       "      <th>answer</th>\n",
       "      <th>percentage</th>\n",
       "    </tr>\n",
       "  </thead>\n",
       "  <tbody>\n",
       "    <tr>\n",
       "      <td>0</td>\n",
       "      <td>Austria</td>\n",
       "      <td>Lesbian</td>\n",
       "      <td>e1</td>\n",
       "      <td>Do you avoid holding hands in public with a sa...</td>\n",
       "      <td>Yes</td>\n",
       "      <td>32.882326</td>\n",
       "    </tr>\n",
       "    <tr>\n",
       "      <td>1</td>\n",
       "      <td>Austria</td>\n",
       "      <td>Lesbian</td>\n",
       "      <td>e1</td>\n",
       "      <td>Do you avoid holding hands in public with a sa...</td>\n",
       "      <td>No</td>\n",
       "      <td>53.755151</td>\n",
       "    </tr>\n",
       "    <tr>\n",
       "      <td>2</td>\n",
       "      <td>Austria</td>\n",
       "      <td>Lesbian</td>\n",
       "      <td>e1</td>\n",
       "      <td>Do you avoid holding hands in public with a sa...</td>\n",
       "      <td>I do not have a same-sex partner</td>\n",
       "      <td>12.320047</td>\n",
       "    </tr>\n",
       "    <tr>\n",
       "      <td>3</td>\n",
       "      <td>Austria</td>\n",
       "      <td>Lesbian</td>\n",
       "      <td>e1</td>\n",
       "      <td>Do you avoid holding hands in public with a sa...</td>\n",
       "      <td>Don`t know</td>\n",
       "      <td>2.229467</td>\n",
       "    </tr>\n",
       "    <tr>\n",
       "      <td>4</td>\n",
       "      <td>Austria</td>\n",
       "      <td>Gay</td>\n",
       "      <td>e1</td>\n",
       "      <td>Do you avoid holding hands in public with a sa...</td>\n",
       "      <td>Yes</td>\n",
       "      <td>50.113992</td>\n",
       "    </tr>\n",
       "    <tr>\n",
       "      <td>...</td>\n",
       "      <td>...</td>\n",
       "      <td>...</td>\n",
       "      <td>...</td>\n",
       "      <td>...</td>\n",
       "      <td>...</td>\n",
       "      <td>...</td>\n",
       "    </tr>\n",
       "    <tr>\n",
       "      <td>45350</td>\n",
       "      <td>Average</td>\n",
       "      <td>Transgender</td>\n",
       "      <td>fb2_9</td>\n",
       "      <td>MOST SERIOUS incident of harassment - Do you t...</td>\n",
       "      <td>Lesbian</td>\n",
       "      <td>1.320007</td>\n",
       "    </tr>\n",
       "    <tr>\n",
       "      <td>45351</td>\n",
       "      <td>Average</td>\n",
       "      <td>Transgender</td>\n",
       "      <td>fb2_9</td>\n",
       "      <td>MOST SERIOUS incident of harassment - Do you t...</td>\n",
       "      <td>Gay</td>\n",
       "      <td>0.308916</td>\n",
       "    </tr>\n",
       "    <tr>\n",
       "      <td>45352</td>\n",
       "      <td>Average</td>\n",
       "      <td>Transgender</td>\n",
       "      <td>fb2_9</td>\n",
       "      <td>MOST SERIOUS incident of harassment - Do you t...</td>\n",
       "      <td>Bisexual</td>\n",
       "      <td>0.509825</td>\n",
       "    </tr>\n",
       "    <tr>\n",
       "      <td>45353</td>\n",
       "      <td>Average</td>\n",
       "      <td>Transgender</td>\n",
       "      <td>fb2_9</td>\n",
       "      <td>MOST SERIOUS incident of harassment - Do you t...</td>\n",
       "      <td>Mixed sexual orientation</td>\n",
       "      <td>7.037621</td>\n",
       "    </tr>\n",
       "    <tr>\n",
       "      <td>45354</td>\n",
       "      <td>Average</td>\n",
       "      <td>Transgender</td>\n",
       "      <td>fb2_9</td>\n",
       "      <td>MOST SERIOUS incident of harassment - Do you t...</td>\n",
       "      <td>Don`t know</td>\n",
       "      <td>27.101866</td>\n",
       "    </tr>\n",
       "  </tbody>\n",
       "</table>\n",
       "<p>38458 rows × 6 columns</p>\n",
       "</div>"
      ],
      "text/plain": [
       "      CountryCode       subset question_code  \\\n",
       "0         Austria      Lesbian            e1   \n",
       "1         Austria      Lesbian            e1   \n",
       "2         Austria      Lesbian            e1   \n",
       "3         Austria      Lesbian            e1   \n",
       "4         Austria          Gay            e1   \n",
       "...           ...          ...           ...   \n",
       "45350     Average  Transgender         fb2_9   \n",
       "45351     Average  Transgender         fb2_9   \n",
       "45352     Average  Transgender         fb2_9   \n",
       "45353     Average  Transgender         fb2_9   \n",
       "45354     Average  Transgender         fb2_9   \n",
       "\n",
       "                                          question_label  \\\n",
       "0      Do you avoid holding hands in public with a sa...   \n",
       "1      Do you avoid holding hands in public with a sa...   \n",
       "2      Do you avoid holding hands in public with a sa...   \n",
       "3      Do you avoid holding hands in public with a sa...   \n",
       "4      Do you avoid holding hands in public with a sa...   \n",
       "...                                                  ...   \n",
       "45350  MOST SERIOUS incident of harassment - Do you t...   \n",
       "45351  MOST SERIOUS incident of harassment - Do you t...   \n",
       "45352  MOST SERIOUS incident of harassment - Do you t...   \n",
       "45353  MOST SERIOUS incident of harassment - Do you t...   \n",
       "45354  MOST SERIOUS incident of harassment - Do you t...   \n",
       "\n",
       "                                 answer  percentage  \n",
       "0                                   Yes   32.882326  \n",
       "1                                    No   53.755151  \n",
       "2      I do not have a same-sex partner   12.320047  \n",
       "3                            Don`t know    2.229467  \n",
       "4                                   Yes   50.113992  \n",
       "...                                 ...         ...  \n",
       "45350                           Lesbian    1.320007  \n",
       "45351                               Gay    0.308916  \n",
       "45352                          Bisexual    0.509825  \n",
       "45353          Mixed sexual orientation    7.037621  \n",
       "45354                        Don`t know   27.101866  \n",
       "\n",
       "[38458 rows x 6 columns]"
      ]
     },
     "execution_count": 3,
     "metadata": {},
     "output_type": "execute_result"
    }
   ],
   "source": [
    "lgbt_synthetic = lgbt.copy() # copying to maintain original for comparison\n",
    "lgbt_synthetic['percentage'] = np.clip([laplace_mech(x, 1, 1) for x in lgbt['percentage']], 0, 100)\n",
    "lgbt_synthetic"
   ]
  },
  {
   "cell_type": "code",
   "execution_count": 4,
   "metadata": {},
   "outputs": [
    {
     "data": {
      "image/png": "[encoded data removed]",
      "text/plain": [
       "<Figure size 432x288 with 1 Axes>"
      ]
     },
     "metadata": {
      "needs_background": "light"
     },
     "output_type": "display_data"
    }
   ],
   "source": [
    "plt.hist(lgbt['percentage'], bins=100, label='Original');\n",
    "plt.hist(lgbt_synthetic['percentage'], bins=100, alpha=.5, label='Synthetic');\n",
    "plt.legend();"
   ]
  },
  {
   "cell_type": "code",
   "execution_count": 9,
   "metadata": {},
   "outputs": [
    {
     "data": {
      "image/png": "[encoded data removed]",
      "text/plain": [
       "<Figure size 432x288 with 1 Axes>"
      ]
     },
     "metadata": {
      "needs_background": "light"
     },
     "output_type": "display_data"
    }
   ],
   "source": [
    "# from lecture notes\n",
    "def range_query(df, col, a, b):\n",
    "    return len(df[(df[col] >= a) & (df[col] < b)])\n",
    "\n",
    "bins = list(range(0, 100))\n",
    "counts = [range_query(lgbt, 'percentage', b, b+1) for b in bins]\n",
    "plt.bar(bins, counts);"
   ]
  },
  {
   "cell_type": "code",
   "execution_count": 10,
   "metadata": {},
   "outputs": [
    {
     "data": {
      "image/png": "[encoded data removed]",
      "text/plain": [
       "<Figure size 432x288 with 1 Axes>"
      ]
     },
     "metadata": {
      "needs_background": "light"
     },
     "output_type": "display_data"
    }
   ],
   "source": [
    "counts = [range_query(lgbt_synthetic, 'percentage', b, b+1) for b in bins]\n",
    "plt.bar(bins, counts);"
   ]
  },
  {
   "cell_type": "code",
   "execution_count": 33,
   "metadata": {
    "scrolled": true
   },
   "outputs": [
    {
     "data": {
      "image/png": "[encoded data removed]",
      "text/plain": [
       "<Figure size 432x288 with 1 Axes>"
      ]
     },
     "metadata": {
      "needs_background": "light"
     },
     "output_type": "display_data"
    }
   ],
   "source": [
    "dp_syn_counts = [laplace_mech(c, 1, 1) for c in counts]\n",
    "plt.bar(bins, dp_syn_counts);"
   ]
  },
  {
   "cell_type": "code",
   "execution_count": 41,
   "metadata": {},
   "outputs": [
    {
     "name": "stdout",
     "output_type": "stream",
     "text": [
      "Original: 4936\n",
      "Synthetic: 4850.000655940171\n",
      "Percent Error: 1.742288169769634%\n"
     ]
    }
   ],
   "source": [
    "def range_query_synth(syn_rep, a, b): # function from lecture notes\n",
    "    total = 0\n",
    "    for i in range(a, b):\n",
    "        total += syn_rep[i]\n",
    "    return total\n",
    "\n",
    "original_count = range_query(lgbt, 'percentage', 50, 100)\n",
    "synthetic_count = range_query_synth(dp_syn_counts, 50, 100)\n",
    "print(\"Original: \" + str(original_count))\n",
    "print(\"Synthetic: \" + str(synthetic_count))\n",
    "print(\"Percent Error: \" + str(pct_error(original_count, synthetic_count)) + \"%\")"
   ]
  },
  {
   "cell_type": "code",
   "execution_count": null,
   "metadata": {},
   "outputs": [],
   "source": []
  }
 ],
 "metadata": {
  "kernelspec": {
   "display_name": "Python 3",
   "language": "python",
   "name": "python3"
  },
  "language_info": {
   "codemirror_mode": {
    "name": "ipython",
    "version": 3
   },
   "file_extension": ".py",
   "mimetype": "text/x-python",
   "name": "python",
   "nbconvert_exporter": "python",
   "pygments_lexer": "ipython3",
   "version": "3.7.3"
  }
 },
 "nbformat": 4,
 "nbformat_minor": 2
}
